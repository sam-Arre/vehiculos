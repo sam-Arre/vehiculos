{
 "cells": [
  {
   "cell_type": "code",
   "execution_count": 1,
   "metadata": {},
   "outputs": [
    {
     "name": "stderr",
     "output_type": "stream",
     "text": [
      "2025-01-24 19:48:36.081 \n",
      "  \u001b[33m\u001b[1mWarning:\u001b[0m to view this Streamlit app on a browser, run it with the following\n",
      "  command:\n",
      "\n",
      "    streamlit run /opt/anaconda3/lib/python3.12/site-packages/ipykernel_launcher.py [ARGUMENTS]\n"
     ]
    },
    {
     "data": {
      "text/plain": [
       "DeltaGenerator()"
      ]
     },
     "execution_count": 1,
     "metadata": {},
     "output_type": "execute_result"
    }
   ],
   "source": [
    "import pandas as pd\n",
    "import plotly.express as px\n",
    "import streamlit as st\n",
    "\n",
    "st.header('Datos venta de coches')"
   ]
  },
  {
   "cell_type": "code",
   "execution_count": 2,
   "metadata": {},
   "outputs": [],
   "source": [
    "car_data = pd.read_csv('vehicles_us.csv') \n",
    "hist_button = st.button('Construir histograma')\n",
    "        \n",
    "if hist_button: \n",
    "    st.write('Creación de un histograma para el conjunto de datos de anuncios de venta de coches')\n",
    "                   \n",
    "    fig = px.histogram(car_data, x=\"odometer\")\n",
    "        \n",
    "    st.plotly_chart(fig, use_container_width=True)"
   ]
  },
  {
   "cell_type": "code",
   "execution_count": 3,
   "metadata": {},
   "outputs": [],
   "source": [
    "car_data = pd.read_csv('vehicles_us.csv')\n",
    "disp_button= st.button ('Construir dispersión')\n",
    "\n",
    "if disp_button:\n",
    "    st.write('Creación de gráfico de dispersión para el conjunto de datos de anuncio de venta de coches')\n",
    "    fig_d = px.scatter(car_data, x='model_year', y=\"price\")\n",
    "    st.plotly_chart(fig_d, use_container_width=True)"
   ]
  }
 ],
 "metadata": {
  "kernelspec": {
   "display_name": "base",
   "language": "python",
   "name": "python3"
  },
  "language_info": {
   "codemirror_mode": {
    "name": "ipython",
    "version": 3
   },
   "file_extension": ".py",
   "mimetype": "text/x-python",
   "name": "python",
   "nbconvert_exporter": "python",
   "pygments_lexer": "ipython3",
   "version": "3.12.7"
  }
 },
 "nbformat": 4,
 "nbformat_minor": 2
}
